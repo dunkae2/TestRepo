{
 "cells": [
  {
   "cell_type": "markdown",
   "id": "3b61c08d-d2a7-40e9-a915-7882818678a4",
   "metadata": {},
   "source": [
    "# Data Science Tools and Ecosystem"
   ]
  },
  {
   "cell_type": "markdown",
   "id": "8303a1ea-70d7-4dd9-8ebf-498a4dda4b12",
   "metadata": {},
   "source": [
    "### In this notebook, Data Science Tools and Ecosystem are summarized."
   ]
  },
  {
   "cell_type": "markdown",
   "id": "3f723fbc-dfbb-4914-8105-656289d3d1da",
   "metadata": {},
   "source": [
    "#### Some of the popular languages that Data Scientists use are:\n",
    "#### 1. Python\n",
    "#### 2. R\n",
    "#### 3. SQL"
   ]
  },
  {
   "cell_type": "markdown",
   "id": "d22c61b5-16f8-44f6-8b7d-05b69930b974",
   "metadata": {},
   "source": [
    "#### Some of the popular languages that Data Scientists use are:\n",
    "#### 1. Matplotlib\n",
    "#### 2. Pandas\n",
    "#### 3. Numpy"
   ]
  },
  {
   "cell_type": "markdown",
   "id": "0c772dda-f43b-4bff-a629-453b66de462b",
   "metadata": {},
   "source": [
    "|Data Science Tools|\n",
    "|------------------|\n",
    "|1. Apache Spark   |\n",
    "|2. Hadoop         |\n",
    "|3. MongoDB        |"
   ]
  },
  {
   "cell_type": "markdown",
   "id": "c0e540bc-08c8-4152-81d7-be5896042830",
   "metadata": {},
   "source": [
    "### Below are a few examples of evaluating arithmetic expressions in Python."
   ]
  },
  {
   "cell_type": "code",
   "execution_count": 2,
   "id": "5d6b3be4-cd50-414c-83fa-8766396ec810",
   "metadata": {},
   "outputs": [
    {
     "name": "stdout",
     "output_type": "stream",
     "text": [
      "17\n"
     ]
    }
   ],
   "source": [
    "#This a simple arithmetic expression to mutiply then add integers\n",
    "print((3*4)+5)"
   ]
  },
  {
   "cell_type": "code",
   "execution_count": 3,
   "id": "16bef743-9b9a-4863-bee2-50d5b10de807",
   "metadata": {},
   "outputs": [
    {
     "name": "stdout",
     "output_type": "stream",
     "text": [
      "3.3333333333333335\n"
     ]
    }
   ],
   "source": [
    "#This will convert 200 minutes to hours by diving by 60\n",
    "print(200/60)"
   ]
  },
  {
   "cell_type": "markdown",
   "id": "3fa38bbb-2263-43fe-bea0-d3430c36d4a1",
   "metadata": {},
   "source": [
    "#### **Objectives**\n",
    "* Python\n",
    "* R\n",
    "* SQL"
   ]
  },
  {
   "cell_type": "markdown",
   "id": "f108020f-cbcd-4de0-9fb2-84f95c78865e",
   "metadata": {},
   "source": [
    "## Author:\n",
    "vishnu_tumuluru"
   ]
  },
  {
   "cell_type": "code",
   "execution_count": null,
   "id": "bc188771-1ef0-4736-8946-c33d6aa0196f",
   "metadata": {},
   "outputs": [],
   "source": []
  }
 ],
 "metadata": {
  "kernelspec": {
   "display_name": "Python 3 (ipykernel)",
   "language": "python",
   "name": "python3"
  },
  "language_info": {
   "codemirror_mode": {
    "name": "ipython",
    "version": 3
   },
   "file_extension": ".py",
   "mimetype": "text/x-python",
   "name": "python",
   "nbconvert_exporter": "python",
   "pygments_lexer": "ipython3",
   "version": "3.12.8"
  }
 },
 "nbformat": 4,
 "nbformat_minor": 5
}
